{
 "cells": [
  {
   "cell_type": "markdown",
   "id": "e5c0f0e1-1ce1-4d98-b7fe-a7ab438f1260",
   "metadata": {},
   "source": [
    "Задание 1 (на сопоставление)"
   ]
  },
  {
   "cell_type": "markdown",
   "id": "ee9b4491-dacd-415c-9ab6-056db2cc880b",
   "metadata": {},
   "source": [
    "Ответ:</br>\n",
    "1.E</br>\n",
    "2 B</br>\n",
    "3.F</br>\n",
    "4.G</br>\n",
    "5.A</br>"
   ]
  },
  {
   "cell_type": "markdown",
   "id": "e8eecee9-8ad7-4f85-9dfa-a58fa415b076",
   "metadata": {},
   "source": [
    "Задание 2 (про порошок)"
   ]
  },
  {
   "cell_type": "code",
   "execution_count": null,
   "id": "f9838bdf-d3f8-4dd1-ac76-2fc51aefd440",
   "metadata": {},
   "outputs": [],
   "source": [
    "'''Ваш ответ на задание №2 \n",
    "- верно указана применяемая статистика и обоснование ее применения\n",
    "- получено расчетное значение статистики\n",
    "- получено критическое значение статистики\n",
    "- получено значение p_value\n",
    "- сделан статистический вывод на основе сравнения критического значения с расчетным\n",
    "- сделан статистический вывод на основе сравнения p-value и уровня значимости\n",
    "- сделан содержательный вывод по поставленной проблеме'''"
   ]
  },
  {
   "cell_type": "markdown",
   "id": "56ba0208-c89e-4c88-9cb3-6d7b71c899b1",
   "metadata": {},
   "source": [
    "Большой размер выборки (n=50) позволяет применять центральную предельную теорему.</br>\n",
    "Мы знаем стандартное отклонение популяции (наиболее важный критерий)</br>\n",
    "Поэтому применяем z-тест"
   ]
  },
  {
   "cell_type": "code",
   "execution_count": 22,
   "id": "6104ff71-0cfc-4d8b-9b7e-c1e3641b3c87",
   "metadata": {},
   "outputs": [
    {
     "name": "stdout",
     "output_type": "stream",
     "text": [
      "Значение p-value: 0.01842212545410149\n",
      "Z-статистика: 2.3570226039551083\n",
      "Критическое значение: ±1.959963984540054\n",
      "На основе Z-критического отвергаем нулевую гипотезу: есть достаточные доказательства того, что истинное среднее значение не равно 3.00 кг.\n",
      "На основе p-value отвергаем нулевую гипотезу: есть достаточные доказательства того, что истинное среднее значение не равно 3.00 кг.\n"
     ]
    }
   ],
   "source": [
    "import scipy.stats as stats\n",
    "import numpy as np\n",
    "\n",
    "sample_mean = 3.005 \n",
    "population_mean = 3.00\n",
    "std_dev = 0.015\n",
    "n = 50\n",
    "\n",
    "z = (sample_mean - population_mean) / (std_dev / np.sqrt(n))\n",
    "\n",
    "alpha = 0.05\n",
    "\n",
    "critical_value = stats.norm.ppf(1 - alpha / 2)\n",
    "p_value = 2 * (1 - stats.norm.cdf(abs(z)))\n",
    "print(f\"Значение p-value: {p_value}\")\n",
    "\n",
    "print(f\"Z-статистика: {z}\")\n",
    "print(f\"Критическое значение: ±{critical_value}\")\n",
    "\n",
    "if abs(z) > critical_value:\n",
    "    print(\"На основе Z-критического отвергаем нулевую гипотезу: есть достаточные доказательства того, что истинное среднее значение не равно 3.00 кг.\")\n",
    "else:\n",
    "    print(\"На основе Z-критического не отвергаем нулевую гипотезу: недостаточно доказательств для утверждения, что истинное среднее значение отличается от 3.00 кг.\")\n",
    "\n",
    "if p_value < alpha:\n",
    "    print(\"На основе p-value отвергаем нулевую гипотезу: есть достаточные доказательства того, что истинное среднее значение не равно 3.00 кг.\")\n",
    "else:\n",
    "    print(\"На основе p-value не отвергаем нулевую гипотезу: недостаточно доказательств для утверждения, что истинное среднее значение отличается от 3.00 кг.\")"
   ]
  },
  {
   "cell_type": "markdown",
   "id": "23144781-fc57-482e-aa3d-1e5dfe458f6d",
   "metadata": {},
   "source": [
    "Для нашего заданного уровня доверия мы можем предположить, что различия в дозировании имеются и они статистически значимы,\n",
    "#поэтому мастеру нужно откалибровать дозатор"
   ]
  },
  {
   "cell_type": "markdown",
   "id": "17ad34a0-cbb3-482a-99d4-253f0b70f05f",
   "metadata": {},
   "source": [
    "Задание 3 (про двигатели)"
   ]
  },
  {
   "cell_type": "code",
   "execution_count": null,
   "id": "dff894a5-d67e-4c7f-916a-9fe5e506f0f9",
   "metadata": {},
   "outputs": [],
   "source": [
    "'''Ваш ответ на задание №3 \n",
    "- верно указана применяемая статистика и обоснование ее применения\n",
    "- получено расчетное значение статистики\n",
    "- получено критическое значение статистики\n",
    "- получено значение p_value\n",
    "- сделан статистический вывод на основе сравнения критического значения с расчетным\n",
    "- сделан статистический вывод на основе сравнения p-value и уровня значимости\n",
    "- сделан содержательный вывод по поставленной проблеме'''"
   ]
  },
  {
   "cell_type": "markdown",
   "id": "8f21347f-36ca-4a61-a727-76c6618fd565",
   "metadata": {},
   "source": [
    "Для решения задачи о сравнении средних значений прочности двух материалов (алюминия и стали) на уровне значимости 5% (0.05), мы можем использовать t-тест для независимых выборок\n",
    "\n",
    "Формулировка гипотез: Нулевая гипотеза (H0): Средние прочности двух веществ равны (μ1 = μ2). Альтернативная гипотеза (H1): Средние прочности двух веществ не равны (μ1 ≠ μ2).\n",
    "\n",
    "Выбор статистики: Используем t-тест для независимых выборок, так как у нас есть две независимые выборки с известными средними и стандартными отклонениями.\n",
    "\n",
    "Рассчет расчетного значения статистики: Расчет t-статистики.\n",
    "\n",
    "Определение критического значения: Используем таблицу t-распределения для нахождения критического значения на уровне значимости 0.05\n",
    "\n",
    "Рассчет p-value: Находим p-value для полученного t-значения.\n",
    "\n",
    "Статистический вывод: Сравниваем расчетное значение статистики с критическим значением. Сравниваем p-value с уровнем значимости."
   ]
  },
  {
   "cell_type": "code",
   "execution_count": 4,
   "id": "7b11c42f-90fc-43f3-ab8a-11be787937fd",
   "metadata": {},
   "outputs": [
    {
     "name": "stdout",
     "output_type": "stream",
     "text": [
      "Расчетное значение t-статистики: 2.186521551237011\n",
      "Критическое значение t для уровня значимости 0.05: 2.0686576104190406\n",
      "p-value: 0.03921015358894264\n",
      "Отклоняем нулевую гипотезу: есть статистически значимая разница между средними прочностями.\n",
      "Отклоняем нулевую гипотезу на основе p-value: есть статистически значимая разница.\n"
     ]
    }
   ],
   "source": [
    "# Данные\n",
    "n1 = 15  # Размер выборки 1\n",
    "mean1 = 90  # Средняя прочность 1\n",
    "std1 = 2.3  # Стандартное отклонение 1\n",
    "\n",
    "n2 = 10  # Размер выборки 2\n",
    "mean2 = 88  # Средняя прочность 2\n",
    "std2 = 2.2  # Стандартное отклонение 2\n",
    "\n",
    "# Рассчет t-статистики\n",
    "t_stat = (mean1 - mean2) / np.sqrt((std1**2 / n1) + (std2**2 / n2))\n",
    "\n",
    "# Степени свободы\n",
    "df = n1 + n2 - 2\n",
    "\n",
    "# Критическое значение для двустороннего теста\n",
    "alpha = 0.05\n",
    "t_critical = stats.t.ppf(1 - alpha / 2, df)\n",
    "\n",
    "# Рассчет p-value\n",
    "p_value = 2 * (1 - stats.t.cdf(abs(t_stat), df))\n",
    "\n",
    "# Вывод результатов\n",
    "print(f'Расчетное значение t-статистики: {t_stat}')\n",
    "print(f'Критическое значение t для уровня значимости {alpha}: {t_critical}')\n",
    "print(f'p-value: {p_value}')\n",
    "\n",
    "# Статистический вывод\n",
    "if abs(t_stat) > t_critical:\n",
    "    print(\"Отклоняем нулевую гипотезу: есть статистически значимая разница между средними прочностями.\")\n",
    "else:\n",
    "    print(\"Не отклоняем нулевую гипотезу: нет статистически значимой разницы между средними прочностями.\")\n",
    "\n",
    "if p_value < alpha:\n",
    "    print(\"Отклоняем нулевую гипотезу на основе p-value: есть статистически значимая разница.\")\n",
    "else:\n",
    "    print(\"Не отклоняем нулевую гипотезу на основе p-value: нет статистически значимой разницы.\")"
   ]
  },
  {
   "cell_type": "markdown",
   "id": "4b8469bd-8583-41b1-a142-88669fc21c86",
   "metadata": {},
   "source": [
    "Таким образом детали выполенные из алюминия не будут соотвестовать требованиям заданным требованиям производителя."
   ]
  },
  {
   "cell_type": "markdown",
   "id": "ad515879-cb2d-43eb-93ee-d3f6bb4b49d4",
   "metadata": {},
   "source": [
    "Задание 4 (про токи)"
   ]
  },
  {
   "cell_type": "code",
   "execution_count": null,
   "id": "d40bfdbb-c39c-4193-bae9-c3d37127529a",
   "metadata": {},
   "outputs": [],
   "source": [
    "'''Ваш ответ на задание №4 \n",
    "- верно указана применяемая статистика и обоснование ее применения\n",
    "- получено расчетное значение статистики\n",
    "- получено критическое значение статистики\n",
    "- получено значение p_value\n",
    "- сделан статистический вывод на основе сравнения критического значения с расчетным\n",
    "- сделан статистический вывод на основе сравнения p-value и уровня значимости\n",
    "- сделан содержательный вывод по поставленной проблеме'''"
   ]
  },
  {
   "cell_type": "markdown",
   "id": "f5c638c3-8ffe-452c-a3aa-3701d530d780",
   "metadata": {},
   "source": [
    "Формулируем гипотезы:\n",
    "H0: μ1 = μ2 (средние значения токов равны) H1: μ1 ≠ μ2 (средние значения токов различны) Выбираем критерий:\n",
    "Используем двухвыборочный t-тест с равными дисперсиями Уровень значимости α = 0.05 Порядок действий:\\\n",
    "Вычисляем средние значения для обеих выборок Находим t-статистику Определяем критическое значение Сравниваем p-value с уровнем значимости"
   ]
  },
  {
   "cell_type": "code",
   "execution_count": 5,
   "id": "f0720b4c-0ce0-43e6-be7a-bdb9d593eefd",
   "metadata": {},
   "outputs": [
    {
     "name": "stdout",
     "output_type": "stream",
     "text": [
      "Статистические показатели:\n",
      "Среднее старой схемы: 82.42 мА\n",
      "Среднее новой схемы: 83.72 мА\n",
      "Стандартное отклонение старой схемы: 1.49\n",
      "Стандартное отклонение новой схемы: 1.72\n",
      "\n",
      "Результаты теста:\n",
      "t-статистика: -1.8657\n",
      "p-value: 0.0768\n",
      "Критическое значение t: ±2.0860\n",
      "\n",
      "Вывод:\n",
      "Можно внедрить новую схему (нет статистически значимых различий)\n"
     ]
    }
   ],
   "source": [
    "# Входные данные\n",
    "old_current = np.array([80.1, 82.3, 84.1, 82.6, 85.3, 81.3, 83.2, 81.7, 82.2, 81.4])\n",
    "new_current = np.array([80.7, 81.3, 84.6, 81.7, 86.3, 84.3, 83.7, 84.7, 82.8, 84.4, 85.2, 84.9])\n",
    "\n",
    "# Расчет базовых статистик\n",
    "old_mean = np.mean(old_current)\n",
    "new_mean = np.mean(new_current)\n",
    "old_std = np.std(old_current, ddof=1)\n",
    "new_std = np.std(new_current, ddof=1)\n",
    "\n",
    "# Проведение t-теста\n",
    "t_stat, p_value = stats.ttest_ind(old_current, new_current, equal_var=True)\n",
    "\n",
    "# Расчет критического значения\n",
    "df = len(old_current) + len(new_current) - 2\n",
    "t_crit = stats.t.ppf(0.975, df)  # Двухсторонний  тест\n",
    "\n",
    "print(f\"Статистические показатели:\")\n",
    "print(f\"Среднее старой схемы: {old_mean:.2f} мА\")\n",
    "print(f\"Среднее новой схемы: {new_mean:.2f} мА\")\n",
    "print(f\"Стандартное отклонение старой схемы: {old_std:.2f}\")\n",
    "print(f\"Стандартное отклонение новой схемы: {new_std:.2f}\")\n",
    "print(f\"\\nРезультаты теста:\")\n",
    "print(f\"t-статистика: {t_stat:.4f}\")\n",
    "print(f\"p-value: {p_value:.4f}\")\n",
    "print(f\"Критическое значение t: ±{t_crit:.4f}\")\n",
    "\n",
    "print(\"\\nВывод:\")\n",
    "if p_value > 0.05:\n",
    "    print(\"Можно внедрить новую схему (нет статистически значимых различий)\")\n",
    "else:\n",
    "    print(\"Нельзя внедрить новую схему (есть статистически значимые различия)\")"
   ]
  },
  {
   "cell_type": "markdown",
   "id": "46f3a4d3-149d-45c3-bdae-df806e07bae1",
   "metadata": {},
   "source": [
    "Задание 5 (про глюкозу)"
   ]
  },
  {
   "cell_type": "code",
   "execution_count": null,
   "id": "c8aa362b-f9b5-429b-940a-a28325420f84",
   "metadata": {},
   "outputs": [],
   "source": [
    "'''Ваш ответ на задание №5 \n",
    "- верно указана применяемая статистика и обоснование ее применения\n",
    "- получено расчетное значение статистики\n",
    "- получено критическое значение статистики\n",
    "- получено значение p_value\n",
    "- сделан статистический вывод на основе сравнения критического значения с расчетным\n",
    "- сделан статистический вывод на основе сравнения p-value и уровня значимости\n",
    "- сделан содержательный вывод по поставленной проблеме'''"
   ]
  },
  {
   "cell_type": "markdown",
   "id": "2a655527-3b56-4ea3-a16a-80d89c48dea2",
   "metadata": {},
   "source": [
    "Выбор статистического теста: Используем парный t-критерий Стьюдента, потому что: Измерения проводятся на одних и тех же пациентах (связанные выборки) Исследуется количественная переменная (уровень глюкозы) Нужно сравнить значения до и после воздействия Предполагаем нормальное распределение разностей Формулировка гипотез: H0: μd = 0 (разница между измерениями до и после незначима) H1: μd ≠ 0 (разница значима) Уровень значимости α = 0.05 (доверительный уровень 0.95)"
   ]
  },
  {
   "cell_type": "code",
   "execution_count": 6,
   "id": "14596427-0d20-4ffe-8c38-e941fe204a9d",
   "metadata": {},
   "outputs": [
    {
     "name": "stdout",
     "output_type": "stream",
     "text": [
      "Статистический анализ:\n",
      "Средняя разница: 1.130\n",
      "Стандартное отклонение разницы: 0.625\n",
      "\n",
      "Результаты t-теста:\n",
      "t-статистика: 5.7130\n",
      "p-value: 0.0003\n",
      "Критическое значение t: ±2.2622\n",
      "\n",
      "Вывод:\n",
      "Препарат оказывает статистически значимый эффект\n"
     ]
    },
    {
     "data": {
      "image/png": "[encoded data removed]",
      "text/plain": [
       "<Figure size 1000x600 with 1 Axes>"
      ]
     },
     "metadata": {},
     "output_type": "display_data"
    }
   ],
   "source": [
    "import matplotlib.pyplot as plt\n",
    "\n",
    "# Исходные данные\n",
    "before = np.array([9.6, 8.1, 8.8, 7.9, 9.2, 8.0, 8.4, 10.1, 7.8, 8.1])\n",
    "after = np.array([7.7, 6.2, 7.4, 7.5, 8.3, 6.2, 8.1, 8.9, 7.4, 7.0])\n",
    "\n",
    "# Базовая статистика\n",
    "diff = before - after\n",
    "mean_diff = np.mean(diff)\n",
    "std_diff = np.std(diff, ddof=1)\n",
    "\n",
    "# Парный t-тест\n",
    "t_stat, p_value = stats.ttest_rel(before, after)\n",
    "\n",
    "# Критическое значение\n",
    "df = len(before) - 1\n",
    "t_crit = stats.t.ppf(0.975, df)\n",
    "\n",
    "# Визуализация\n",
    "plt.figure(figsize=(10, 6))\n",
    "plt.boxplot([before, after], labels=['До препарата', 'После препарата'])\n",
    "plt.title('Уровень глюкозы до и после приема препарата')\n",
    "plt.ylabel('Уровень глюкозы')\n",
    "plt.grid(True)\n",
    "\n",
    "print(\"Статистический анализ:\")\n",
    "print(f\"Средняя разница: {mean_diff:.3f}\")\n",
    "print(f\"Стандартное отклонение разницы: {std_diff:.3f}\")\n",
    "print(f\"\\nРезультаты t-теста:\")\n",
    "print(f\"t-статистика: {t_stat:.4f}\")\n",
    "print(f\"p-value: {p_value:.4f}\")\n",
    "print(f\"Критическое значение t: ±{t_crit:.4f}\")\n",
    "\n",
    "print(\"\\nВывод:\")\n",
    "if p_value < 0.05:\n",
    "    print(\"Препарат оказывает статистически значимый эффект\")\n",
    "else:\n",
    "    print(\"Статистически значимый эффект препарата не обнаружен\")\n",
    "\n",
    "plt.show()"
   ]
  },
  {
   "cell_type": "markdown",
   "id": "31d98391-527f-40ec-9212-5765fcec7794",
   "metadata": {},
   "source": [
    "Задание 6 (про тросы)"
   ]
  },
  {
   "cell_type": "code",
   "execution_count": null,
   "id": "039569a5-a3cd-4871-a512-31d0ceb174bd",
   "metadata": {},
   "outputs": [],
   "source": [
    "'''Ваш ответ на задание №6 \n",
    "- верно указана применяемая статистика и обоснование ее применения\n",
    "- получено расчетное значение статистики\n",
    "- получено критическое значение статистики\n",
    "- получено значение p_value\n",
    "- сделан статистический вывод на основе сравнения критического значения с расчетным\n",
    "- сделан статистический вывод на основе сравнения p-value и уровня значимости\n",
    "- сделан содержательный вывод по поставленной проблеме'''"
   ]
  },
  {
   "cell_type": "markdown",
   "id": "b8bc4392-d1b6-46ea-ad21-29b5aa37467c",
   "metadata": {},
   "source": [
    "Выбираем двухвыборочный t-тест Уэлча (t-тест с неравными дисперсиями) потому что: Сравниваем две независимые выборки Дисперсии выборок не равны (указано в условии) Измерения количественные Предполагаем нормальное распределение данных Порядок действий:\n",
    "\n",
    "Формулируем гипотезы: H0: μ1 = μ2 (средние прочности кабелей равны) H1: μ1 > μ2 (новый кабель прочнее) Задаем уровень значимости α = 0.01 (1%) Проводим односторонний t-тест Уэлча Сравниваем p-value с уровнем значимости"
   ]
  },
  {
   "cell_type": "code",
   "execution_count": 7,
   "id": "0e3867b6-8f7a-499b-9c16-2708357091f1",
   "metadata": {},
   "outputs": [
    {
     "name": "stdout",
     "output_type": "stream",
     "text": [
      "Статистические показатели:\n",
      "Среднее нового кабеля: 95.28\n",
      "Среднее старого кабеля: 92.24\n",
      "Стандартное отклонение нового кабеля: 2.68\n",
      "Стандартное отклонение старого кабеля: 1.36\n",
      "\n",
      "Результаты теста:\n",
      "t-статистика: 3.1204\n",
      "p-value (односторонний): 0.0038\n",
      "\n",
      "Вывод:\n",
      "Следует заменить старый кабель новым (есть статистически значимое улучшение)\n"
     ]
    }
   ],
   "source": [
    "# Входные данные\n",
    "new_cable = np.array([92.7, 91.6, 94.7, 93.7, 96.5, 94.3, 93.7, 96.8, 98.9, 99.9])\n",
    "old_cable = np.array([90.1, 92.2, 94.3, 92.1, 93.4, 91.1, 93.2, 91.5])\n",
    "\n",
    "# Расчет базовых статистик\n",
    "new_mean = np.mean(new_cable)\n",
    "old_mean = np.mean(old_cable)\n",
    "new_std = np.std(new_cable, ddof=1)\n",
    "old_std = np.std(old_cable, ddof=1)\n",
    "\n",
    "# Проведение t-теста Уэлча (односторонний)\n",
    "t_stat, p_value = stats.ttest_ind(new_cable, old_cable, equal_var=False)\n",
    "# Корректировка p-value для одностороннего теста\n",
    "p_value_one_sided = p_value / 2  # делим на 2, так как нас интересует только правосторонний тест\n",
    "\n",
    "print(f\"Статистические показатели:\")\n",
    "print(f\"Среднее нового кабеля: {new_mean:.2f}\")\n",
    "print(f\"Среднее старого кабеля: {old_mean:.2f}\")\n",
    "print(f\"Стандартное отклонение нового кабеля: {new_std:.2f}\")\n",
    "print(f\"Стандартное отклонение старого кабеля: {old_std:.2f}\")\n",
    "print(f\"\\nРезультаты теста:\")\n",
    "print(f\"t-статистика: {t_stat:.4f}\")\n",
    "print(f\"p-value (односторонний): {p_value_one_sided:.4f}\")\n",
    "\n",
    "print(\"\\nВывод:\")\n",
    "if p_value_one_sided < 0.01:\n",
    "    print(\"Следует заменить старый кабель новым (есть статистически значимое улучшение)\")\n",
    "else:\n",
    "    print(\"Нет достаточных оснований для замены кабеля\")"
   ]
  },
  {
   "cell_type": "markdown",
   "id": "c94b6ae2-c1fd-46b1-9dff-6c067dae6ac9",
   "metadata": {},
   "source": [
    "Задание 7 (про абитуриентов)"
   ]
  },
  {
   "cell_type": "code",
   "execution_count": null,
   "id": "a181e6b3-8b00-4cc3-8ee3-bb8d8bf1a9d1",
   "metadata": {},
   "outputs": [],
   "source": [
    "'''Ваш ответ на задание №7 \n",
    "- верно указана применяемая статистика и обоснование ее применения\n",
    "- получено расчетное значение статистики\n",
    "- получено критическое значение статистики\n",
    "- получено значение p_value\n",
    "- сделан статистический вывод на основе сравнения критического значения с расчетным\n",
    "- сделан статистический вывод на основе сравнения p-value и уровня значимости\n",
    "- сделан содержательный вывод по поставленной проблеме'''"
   ]
  },
  {
   "cell_type": "markdown",
   "id": "e5f9c688-6f1f-4c85-9972-9de3484602b6",
   "metadata": {},
   "source": [
    "Для решения этой задачи используем парный t-тест, так как:\n",
    "\n",
    "Измерения проводятся на одних и тех же абитуриентах до и после обучения Данные количественные Предполагаем нормальное распределение разностей"
   ]
  },
  {
   "cell_type": "code",
   "execution_count": 8,
   "id": "5226283c-a4f1-44f6-a80d-90a16b8f9796",
   "metadata": {},
   "outputs": [
    {
     "name": "stdout",
     "output_type": "stream",
     "text": [
      "1. Обоснование выбора статистики:\n",
      "- Парный t-тест используется, так как:\n",
      "- Измерения до/после на одних и тех же объектах\n",
      "- Количественные данные\n",
      "- Предполагаем нормальное распределение разностей\n",
      "- Малый размер выборки (n = 10)\n",
      "\n",
      "2. Расчетные значения:\n",
      "- t-статистика: 2.7386\n",
      "- Степени свободы: 9\n",
      "- Среднее разностей: 1.0000\n",
      "- Стандартное отклонение разностей: 1.1547\n",
      "\n",
      "3. Критические значения:\n",
      "- t критическое (α = 0.01): ±3.2498\n",
      "- p-value: 0.0229\n",
      "\n",
      "4. Статистический вывод по критическому значению:\n",
      "|2.7386| ≤ 3.2498 - не отвергаем H₀\n",
      "\n",
      "5. Статистический вывод по p-value:\n",
      "0.0229 ≥ 0.01 - не отвергаем H₀\n",
      "\n",
      "6. Содержательный вывод:\n",
      "На уровне значимости 0.01 нет статистически значимых доказательств влияния курсов на результаты тестирования\n"
     ]
    }
   ],
   "source": [
    "# Исходные данные\n",
    "before = np.array([7, 6, 5, 4, 6, 2, 10, 3, 8, 5])\n",
    "after = np.array([9, 6, 4, 5, 7, 4, 10, 6, 9, 6])\n",
    "\n",
    "# 1. Обоснование выбора статистики\n",
    "print(\"1. Обоснование выбора статистики:\")\n",
    "print(\"- Парный t-тест используется, так как:\")\n",
    "print(\"- Измерения до/после на одних и тех же объектах\")\n",
    "print(\"- Количественные данные\")\n",
    "print(\"- Предполагаем нормальное распределение разностей\")\n",
    "print(\"- Малый размер выборки (n = 10)\")\n",
    "\n",
    "# 2. Расчет статистик\n",
    "diff = after - before\n",
    "mean_diff = np.mean(diff)\n",
    "std_diff = np.std(diff, ddof=1)\n",
    "n = len(before)\n",
    "df = n - 1\n",
    "\n",
    "# Расчет t-статистики вручную\n",
    "t_stat_manual = mean_diff / (std_diff / np.sqrt(n))\n",
    "t_stat, p_value = stats.ttest_rel(after, before)\n",
    "\n",
    "# 3. Критическое значение\n",
    "alpha = 0.01\n",
    "t_crit = stats.t.ppf(1 - alpha/2, df)\n",
    "\n",
    "print(\"\\n2. Расчетные значения:\")\n",
    "print(f\"- t-статистика: {t_stat:.4f}\")\n",
    "print(f\"- Степени свободы: {df}\")\n",
    "print(f\"- Среднее разностей: {mean_diff:.4f}\")\n",
    "print(f\"- Стандартное отклонение разностей: {std_diff:.4f}\")\n",
    "\n",
    "print(\"\\n3. Критические значения:\")\n",
    "print(f\"- t критическое (α = 0.01): ±{t_crit:.4f}\")\n",
    "print(f\"- p-value: {p_value:.4f}\")\n",
    "\n",
    "print(\"\\n4. Статистический вывод по критическому значению:\")\n",
    "if abs(t_stat) > t_crit:\n",
    "    print(f\"|{t_stat:.4f}| > {t_crit:.4f} - отвергаем H₀\")\n",
    "else:\n",
    "    print(f\"|{t_stat:.4f}| ≤ {t_crit:.4f} - не отвергаем H₀\")\n",
    "\n",
    "print(\"\\n5. Статистический вывод по p-value:\")\n",
    "if p_value < alpha:\n",
    "    print(f\"{p_value:.4f} < {alpha} - отвергаем H₀\")\n",
    "else:\n",
    "    print(f\"{p_value:.4f} ≥ {alpha} - не отвергаем H₀\")\n",
    "\n",
    "print(\"\\n6. Содержательный вывод:\")\n",
    "if p_value < alpha:\n",
    "    print(\"На уровне значимости 0.01 подготовительные курсы оказывают статистически значимое влияние на результаты тестирования\")\n",
    "else:\n",
    "    print(\"На уровне значимости 0.01 нет статистически значимых доказательств влияния курсов на результаты тестирования\")"
   ]
  },
  {
   "cell_type": "markdown",
   "id": "3457d32d-5ce3-4093-bf60-18cdc0d23a79",
   "metadata": {},
   "source": [
    "Задание 8 (про фрукты и IQ)"
   ]
  },
  {
   "cell_type": "code",
   "execution_count": null,
   "id": "9f68eb4e-7513-4152-8d76-39ce67442144",
   "metadata": {},
   "outputs": [],
   "source": [
    "'''Ваш ответ на задание №8 \n",
    "- верно указана применяемая статистика и обоснование ее применения\n",
    "- получено расчетное значение статистики\n",
    "- получено критическое значение статистики\n",
    "- получено значение p_value\n",
    "- сделан статистический вывод на основе сравнения критического значения с расчетным\n",
    "- сделан статистический вывод на основе сравнения p-value и уровня значимости\n",
    "- сделан содержательный вывод по поставленной проблеме'''"
   ]
  },
  {
   "cell_type": "markdown",
   "id": "35464c11-a955-4f79-899f-b021b06183bd",
   "metadata": {},
   "source": [
    "Для проверки гипотезы о равенстве дисперсий двух независимых выборок мы будем использовать тест Фишера (F-тест)"
   ]
  },
  {
   "cell_type": "code",
   "execution_count": 16,
   "id": "a2fa0ca3-f86e-4ce4-9051-3d07abdceeb6",
   "metadata": {},
   "outputs": [
    {
     "name": "stdout",
     "output_type": "stream",
     "text": [
      "Critical F-Score: 3.178893104458269\n",
      "F-score: 1.9061769156692805\n",
      "P-Value : 0.17529362058224196\n",
      "На основе F-critical нельзя отклонить нулевую гипотезу: дисперсии групп не различаются\n",
      "На основе p-value нельзя отклонить нулевую гипотезу: дисперсии групп не различаются\n"
     ]
    }
   ],
   "source": [
    "# Исходные данные\n",
    "oranges = np.array([125, 138, 112, 130, 124, 125, 110, 112, 117, 126])\n",
    "pears = np.array([124, 102, 142, 130, 131, 124, 127, 115, 108, 109])\n",
    "\n",
    "# Нулевая гипотеза (H0): Дисперсии обеих групп равны\n",
    "#Альтернативная гипотеза (H1): Дисперсии обеих групп различаются\n",
    "\n",
    "alpha = 0.05\n",
    "n = len(oranges)\n",
    "S1 = oranges.var()*n/(n-1)\n",
    "S2 = pears.var()*n/(n-1)\n",
    "F_score = S2/S1\n",
    "F_critical = stats.f.ppf(1 - alpha, dfn = n-1, dfd = n-1)\n",
    "p_value = 1 - stats.f.cdf(np.abs(F_score), dfn = n-1, dfd = n-1)\n",
    "\n",
    "print('Critical F-Score:', F_critical)\n",
    "print('F-score:', np.abs(F_score))\n",
    "print('P-Value :', p_value)\n",
    "\n",
    "if np.abs(F_score) > F_critical:\n",
    "    print(\"На основе F-critical отклоняем нулевую гипотезу: дисперсии групп различаются\")\n",
    "else: \n",
    "    print(\"На основе F-critical нельзя отклонить нулевую гипотезу: дисперсии групп не различаются\")\n",
    "p_value = 1 - stats.f.cdf(np.abs(F_score), dfn = n-1, dfd = n-1)\n",
    "\n",
    "if p_value < alpha:\n",
    "    print(\"На основе p-value отклоняем нулевую гипотезу: дисперсии групп различаются\")\n",
    "else: \n",
    "    print(\"На основе p-value нельзя отклонить нулевую гипотезу: дисперсии групп не различаются\")"
   ]
  },
  {
   "cell_type": "markdown",
   "id": "314d552c-1a7f-4633-a3cc-eaf67c0eda03",
   "metadata": {},
   "source": [
    "Для нашего заданного уровня доверия можем утверждать, что различия не являются статистически значимыми, чтобы утверждать, что дисперсии различаются"
   ]
  },
  {
   "cell_type": "markdown",
   "id": "7f6c4b09-ad80-4c83-82fb-472272cef69d",
   "metadata": {},
   "source": [
    "Задание 9 (про самолеты)"
   ]
  },
  {
   "cell_type": "code",
   "execution_count": null,
   "id": "ba7cfebf-6c77-4aed-b6ec-cbd0b2df304b",
   "metadata": {},
   "outputs": [],
   "source": [
    "'''Ваш ответ на задание №9 \n",
    "- верно указана применяемая статистика и обоснование ее применения\n",
    "- получено расчетное значение статистики\n",
    "- получено критическое значение статистики\n",
    "- получено значение p_value\n",
    "- сделан статистический вывод на основе сравнения критического значения с расчетным\n",
    "- сделан статистический вывод на основе сравнения p-value и уровня значимости\n",
    "- сделан содержательный вывод по поставленной проблеме'''"
   ]
  },
  {
   "cell_type": "markdown",
   "id": "1d77c884-f0f3-481e-8465-85d237bccc3d",
   "metadata": {},
   "source": [
    "Используем распределение Пуассона</br>\n",
    "А потверждатать/опровергать мы будем с помощью Хи-квадрат Пирсона"
   ]
  },
  {
   "cell_type": "code",
   "execution_count": 20,
   "id": "d6f044c5-bd38-45a4-a7b8-574bc448650d",
   "metadata": {},
   "outputs": [
    {
     "name": "stdout",
     "output_type": "stream",
     "text": [
      "Оценка λ: 2.74\n",
      "Статистика хи-квадрат: 72.50619032809553\n",
      "Критическое значение хи-квадрат: 15.50731305586545\n",
      "P-значение: 1.5551461913805467e-12\n",
      "На основании хи-квадрат критического отвергаем нулевую гипотезу: данные не соответствуют распределению Пуассона\n",
      "На основании p-value отвергаем нулевую гипотезу: данные не соответствуют распределению Пуассона\n"
     ]
    },
    {
     "data": {
      "image/png": "[encoded data removed]",
      "text/plain": [
       "<Figure size 640x480 with 1 Axes>"
      ]
     },
     "metadata": {},
     "output_type": "display_data"
    }
   ],
   "source": [
    "# Исходные данные\n",
    "flights = np.array([1, 2, 3, 4, 5, 6, 7, 8, 9])\n",
    "frequency = np.array([36, 23, 11, 13, 8, 3, 2, 1, 3])\n",
    "\n",
    "#Нулевая гипотеза (H0): Распределение соответсвует распределению Пуассона\n",
    "#Альтернативная гипотеза (H1): Распределение не соответсвует распределению Пуассона\n",
    "\n",
    "lambda_estimate = np.sum(flights * frequency) / np.sum(frequency)\n",
    "\n",
    "total_observed = np.sum(frequency)\n",
    "theoretical_frequency = np.array([stats.poisson.pmf(k, lambda_estimate) * total_observed for k in flights])\n",
    "\n",
    "# Нужна нормализация ожидаемых частот, иначе будет ошибка \n",
    "theoretical_frequency *= total_observed / np.sum(theoretical_frequency)\n",
    "\n",
    "chi2_statistic, p_value = stats.chisquare(frequency, f_exp=theoretical_frequency)\n",
    "critical_value = stats.chi2.ppf(1 - alpha, len(frequency)-1)\n",
    "\n",
    "print(f\"Оценка λ: {lambda_estimate}\")\n",
    "print(f\"Статистика хи-квадрат: {chi2_statistic}\")\n",
    "print(f\"Критическое значение хи-квадрат: {critical_value}\")\n",
    "print(f\"P-значение: {p_value}\")\n",
    "\n",
    "alpha = 0.05\n",
    "\n",
    "if chi2_statistic > critical_value:\n",
    "    print(\"На основании хи-квадрат критического отвергаем нулевую гипотезу: данные не соответствуют распределению Пуассона\")\n",
    "else:\n",
    "    print(\"На основании хи-квадрат критического не отвергаем нулевую гипотезу: данные соответствуют распределению Пуассона\")\n",
    "\n",
    "if p_value < alpha:\n",
    "    print(\"На основании p-value отвергаем нулевую гипотезу: данные не соответствуют распределению Пуассона\")\n",
    "else:\n",
    "    print(\"На основании p-value не отвергаем нулевую гипотезу: данные могут соответствовать распределению Пуассона\")\n",
    "\n",
    "# Визуализация\n",
    "plt.bar(flights, frequency, alpha=0.5, label='Эмпирическая частота', color='green')\n",
    "plt.plot(flights, theoretical_frequency, label='Теоретическая частота (Пуассон)', color='blue')\n",
    "plt.xlabel('Количество вылетов')\n",
    "plt.ylabel('Частота')\n",
    "plt.title('Сравнение эмпирической и теоретической частоты')\n",
    "plt.legend()\n",
    "plt.show()"
   ]
  },
  {
   "cell_type": "code",
   "execution_count": 21,
   "id": "00e3ba8f-4f9d-41d8-9269-4ef4ceac75d6",
   "metadata": {},
   "outputs": [
    {
     "name": "stdout",
     "output_type": "stream",
     "text": [
      "Критическое значение хи-квадрат: 15.50731305586545\n",
      "Оценка p-value: 0.36\n",
      "Статистика хи-квадрат: 7.162847896434765\n",
      "P-значение: 0.5191690137829245\n",
      "На основании хи-квадрат критического не отвергаем нулевую гипотезу: данные могут соответствовать геометрическому распределению\n",
      "На основании p-value критического не отвергаем нулевую гипотезу: данные могут соответствовать геометрическому распределению\n"
     ]
    },
    {
     "data": {
      "image/png": "[encoded data removed]",
      "text/plain": [
       "<Figure size 640x480 with 1 Axes>"
      ]
     },
     "metadata": {},
     "output_type": "display_data"
    }
   ],
   "source": [
    "#Попробуем предположить геометрическое распределение\n",
    "import numpy as np\n",
    "import scipy.stats as stats\n",
    "import matplotlib.pyplot as plt\n",
    "\n",
    "flights = np.array([1, 2, 3, 4, 5, 6, 7, 8, 9])\n",
    "frequencies = np.array([36, 23, 11, 13, 8, 3, 2, 1, 3])\n",
    "\n",
    "N = np.sum(frequencies)\n",
    "\n",
    "#Нулевая гипотеза (H0): Распределение соответсвует геометрическому\n",
    "#Альтернативная гипотеза (H1): Распределение не соответсвует геометрическому\n",
    "\n",
    "# Оценка вероятности успеха p\n",
    "p_estimate = frequencies[0] / N  # Вероятность нахождения корабля с первого вылета\n",
    "\n",
    "theoretical_frequencies = N * (1 - p_estimate) ** (flights - 1) * p_estimate\n",
    "\n",
    "observed_sum = np.sum(frequencies)\n",
    "expected_sum = np.sum(theoretical_frequencies)\n",
    "\n",
    "# Нормализация теоретических частот, иначе будет ошибка\n",
    "theoretical_frequencies *= (observed_sum / np.sum(theoretical_frequencies))\n",
    "\n",
    "chi2_statistic_geom, p_value = stats.chisquare(frequencies, f_exp=theoretical_frequencies)\n",
    "critical_value_geom = stats.chi2.ppf(1 - alpha, len(frequency)-1)\n",
    "\n",
    "print(f\"Критическое значение хи-квадрат: {critical_value_geom}\")\n",
    "print(f\"Оценка p-value: {p_estimate}\")\n",
    "print(f\"Статистика хи-квадрат: {chi2_statistic_geom}\")\n",
    "print(f\"P-значение: {p_value}\")\n",
    "\n",
    "alpha = 0.05\n",
    "\n",
    "if chi2_statistic_geom > critical_value_geom:\n",
    "    print(\"На основании хи-квадрат критического отвергаем нулевую гипотезу: данные не соответствуют геометрическому распределению\")\n",
    "else:\n",
    "    print(\"На основании хи-квадрат критического не отвергаем нулевую гипотезу: данные могут соответствовать геометрическому распределению\")\n",
    "if p_value < alpha:\n",
    "    print(\"На основании p-value критического отвергаем нулевую гипотезу: данные не соответствуют геометрическому распределению\")\n",
    "else:\n",
    "    print(\"На основании p-value критического не отвергаем нулевую гипотезу: данные могут соответствовать геометрическому распределению\")\n",
    "\n",
    "# Визуализация\n",
    "plt.bar(flights, frequencies, alpha=0.5, label='Эмпирическая частота', color='green', width=0.4)\n",
    "plt.plot(flights, theoretical_frequencies, label='Теоретическая частота (Геометрическое)', color='blue')\n",
    "plt.xlabel('Количество вылетов до нахождения корабля')\n",
    "plt.ylabel('Частота')\n",
    "plt.title('Сравнение эмпирической и теоретической частоты (Геометрическое распределение)')\n",
    "plt.legend()\n",
    "plt.show()\n",
    "\n",
    "#С заданным уровнем доверия мы можем предположить, что распределение соответсвует геометрическому"
   ]
  },
  {
   "cell_type": "markdown",
   "id": "683c7734-8ec4-47f3-a4f9-97a18d46ad53",
   "metadata": {},
   "source": [
    "Задание 10 (про цвет глаз и волос)"
   ]
  },
  {
   "cell_type": "code",
   "execution_count": null,
   "id": "e2244a3c-740d-4e90-b071-d5ac307fa7b7",
   "metadata": {},
   "outputs": [],
   "source": [
    "'''Ваш ответ на задание №10\n",
    "- верно указана применяемая статистика и обоснование ее применения\n",
    "- получено расчетное значение статистики\n",
    "- получено критическое значение статистики\n",
    "- получено значение p_value\n",
    "- сделан статистический вывод на основе сравнения критического значения с расчетным\n",
    "- сделан статистический вывод на основе сравнения p-value и уровня значимости\n",
    "- сделан содержательный вывод по поставленной проблеме'''"
   ]
  },
  {
   "cell_type": "markdown",
   "id": "c23d8627-b2e5-499b-969c-b325001af9f8",
   "metadata": {},
   "source": [
    "Выбор статистического теста: Критерий хи-квадрат (χ²) для таблиц сопряженности Подходит для анализа связи между категориальными переменными Позволяет оценить независимость признаков Порядок действий: a) Формулировка гипотез: H0: цвет глаз и цвет волос независимы H1: существует связь между цветом глаз и волос b) Расчет ожидаемых частот: Для каждой ячейки: (сумма строки × сумма столбца) / общая сумма c) Расчет χ² статистики: Сумма (наблюдаемые - ожидаемые)²/ожидаемые d) Определение степеней свободы: df = (строки-1) × (столбцы-1) e) Сравнение с критическим значением при α = 0.05"
   ]
  },
  {
   "cell_type": "code",
   "execution_count": 13,
   "id": "9b332ef6-d1f6-4f3a-8a67-59a2f50f149d",
   "metadata": {},
   "outputs": [
    {
     "name": "stdout",
     "output_type": "stream",
     "text": [
      "Анализ связи между цветом глаз и волос:\n",
      "\n",
      "Таблица наблюдаемых частот:\n",
      "[[35 52 13]\n",
      " [28 42 10]\n",
      " [ 7 10  3]]\n",
      "\n",
      "Таблица ожидаемых частот:\n",
      "[[35.  52.  13. ]\n",
      " [28.  41.6 10.4]\n",
      " [ 7.  10.4  2.6]]\n",
      "\n",
      "Хи-квадрат статистика: 0.0962\n",
      "Критическое значение: 9.4877\n",
      "P-value: 0.9989\n",
      "Степени свободы: 4\n",
      "\n",
      "Вывод:\n",
      "Статистически значимой связи между цветом глаз и волос не обнаружено\n"
     ]
    }
   ],
   "source": [
    "# Исходные данные\n",
    "observed = np.array([\n",
    "    [35, 52, 13],\n",
    "    [28, 42, 10],\n",
    "    [7, 10, 3]\n",
    "])\n",
    "\n",
    "# Расчет ожидаемых частот\n",
    "row_totals = observed.sum(axis=1)\n",
    "col_totals = observed.sum(axis=0)\n",
    "total = observed.sum()\n",
    "expected = np.outer(row_totals, col_totals) / total\n",
    "\n",
    "# Хи-квадрат тест (получаем все значения)\n",
    "chi2_stat, p_value, df, expected = stats.chi2_contingency(observed)\n",
    "\n",
    "# Критическое значение\n",
    "alpha = 0.05\n",
    "critical_value = stats.chi2.ppf(1-alpha, df)\n",
    "\n",
    "print(\"Анализ связи между цветом глаз и волос:\")\n",
    "print(\"\\nТаблица наблюдаемых частот:\")\n",
    "print(observed)\n",
    "print(\"\\nТаблица ожидаемых частот:\")\n",
    "print(expected.round(2))\n",
    "print(f\"\\nХи-квадрат статистика: {chi2_stat:.4f}\")\n",
    "print(f\"Критическое значение: {critical_value:.4f}\")\n",
    "print(f\"P-value: {p_value:.4f}\")\n",
    "print(f\"Степени свободы: {df}\")\n",
    "\n",
    "print(\"\\nВывод:\")\n",
    "if p_value < alpha:\n",
    "    print(\"Существует статистически значимая связь между цветом глаз и волос\")\n",
    "else:\n",
    "    print(\"Статистически значимой связи между цветом глаз и волос не обнаружено\")\n"
   ]
  },
  {
   "cell_type": "markdown",
   "id": "181ab8f2-c071-4803-ad2e-3f10813f0c6a",
   "metadata": {},
   "source": [
    "Задание 11 (про тигров)"
   ]
  },
  {
   "cell_type": "code",
   "execution_count": null,
   "id": "0d001d11-4bd7-420b-8259-f228ad6e4025",
   "metadata": {},
   "outputs": [],
   "source": [
    "'''Ваш ответ на задание №11\n",
    "- верно указана применяемая статистика и обоснование ее применения\n",
    "- получено расчетное значение статистики\n",
    "- получено значение p_value\n",
    "- сделан статистический вывод на основе сравнения p-value и уровня значимости\n",
    "- в случае, если нулевая гипотеза отвергнута, сделан тест Тьюки для подробного сравнения средних\n",
    "- сделано дополнение к статистическому выводу по результатам теста Тьюки\n",
    "- сделан содержательный вывод по поставленной проблеме'''"
   ]
  },
  {
   "cell_type": "markdown",
   "id": "c0b47f6b-8f67-4b31-80ce-e5ed65d716b0",
   "metadata": {},
   "source": [
    "Выбор статистики: Однофакторный дисперсионный анализ (ANOVA) Обоснование: Сравниваем более двух групп (4 типа корма) Зависимая переменная количественная (масса) Независимая переменная категориальная (тип корма) Предполагаем нормальность распределения Нужно оценить влияние одного фактора Последовательность действий: a) Проверка предпосылок ANOVA:\n",
    "\n",
    "Нормальность распределения (тест Шапиро-Уилка) Однородность дисперсий (тест Левена) b) Проведение ANOVA:\n",
    "\n",
    "Расчет F-статистики Определение p-value Сравнение с уровнем значимости 0.05 c) При значимых результатах ANOVA:\n",
    "\n",
    "Проведение post-hoc анализа (тест Тьюки) Попарное сравнение групп Выявление конкретных различий между типами корма Интерпретация результатов:\n",
    "\n",
    "Общий вывод о влиянии типа корма Детальный анализ различий между группами"
   ]
  },
  {
   "cell_type": "code",
   "execution_count": 14,
   "id": "da071797-ff7a-4b0c-8553-0df933687fe4",
   "metadata": {},
   "outputs": [
    {
     "name": "stdout",
     "output_type": "stream",
     "text": [
      "Результаты однофакторного дисперсионного анализа:\n",
      "F-статистика: 21.9278\n",
      "P-value: 0.0000\n",
      "\n",
      "Результаты теста Тьюки:\n",
      " Multiple Comparison of Means - Tukey HSD, FWER=0.05  \n",
      "======================================================\n",
      "group1 group2 meandiff p-adj   lower    upper   reject\n",
      "------------------------------------------------------\n",
      " Food1  Food2    -21.5    0.0  -32.019  -10.981   True\n",
      " Food1  Food3   5.8571  0.458  -4.6619  16.3762  False\n",
      " Food1  Food4 -16.8571 0.0005 -27.3762  -6.3381   True\n",
      " Food2  Food3  27.3571    0.0  16.8381  37.8762   True\n",
      " Food2  Food4   4.6429 0.6473  -5.8762  15.1619  False\n",
      " Food3  Food4 -22.7143    0.0 -33.2333 -12.1953   True\n",
      "------------------------------------------------------\n",
      "\n",
      "Вывод: Тип корма оказывает значимое влияние на массу тигров\n"
     ]
    }
   ],
   "source": [
    "from statsmodels.stats.multicomp import pairwise_tukeyhsd\n",
    "import pandas as pd\n",
    "\n",
    "# Данные\n",
    "food1 = [151, 135, 137, 118, 132, 135, 131, 121, 137, 140, 152, 133, 151, 132]\n",
    "food2 = [108, 123, 145, 103, 110, 124, 116, 108, 104, 130, 106, 105, 114, 108]\n",
    "food3 = [140, 152, 149, 132, 124, 146, 156, 137, 124, 145, 147, 139, 157, 139]\n",
    "food4 = [127, 135, 110, 116, 119, 123, 102, 121, 118, 120, 114, 134, 121, 109]\n",
    "\n",
    "# Подготовка данных для анализа\n",
    "all_data = food1 + food2 + food3 + food4\n",
    "groups = ['Food1']*14 + ['Food2']*14 + ['Food3']*14 + ['Food4']*14\n",
    "\n",
    "# ANOVA\n",
    "f_stat, p_value = stats.f_oneway(food1, food2, food3, food4)\n",
    "\n",
    "# Тест Тьюки\n",
    "tukey = pairwise_tukeyhsd(all_data, groups)\n",
    "\n",
    "print(\"Результаты однофакторного дисперсионного анализа:\")\n",
    "print(f\"F-статистика: {f_stat:.4f}\")\n",
    "print(f\"P-value: {p_value:.4f}\")\n",
    "\n",
    "print(\"\\nРезультаты теста Тьюки:\")\n",
    "print(tukey)\n",
    "\n",
    "if p_value < 0.05:\n",
    "    print(\"\\nВывод: Тип корма оказывает значимое влияние на массу тигров\")\n",
    "else:\n",
    "    print(\"\\nВывод: Значимого влияния типа корма на массу тигров не обнаружено\")"
   ]
  },
  {
   "cell_type": "markdown",
   "id": "2a4c28a5-2a2c-438f-a308-8cd5d03d79fd",
   "metadata": {},
   "source": [
    "На основе результатов анализа можно сделать следующие конкретные рекомендации:\n",
    "\n",
    "Рекомендуемый тип корма: Корм №3 показывает наилучшие результаты по массе тигров Средняя масса тигров на корме №3 значительно выше, чем на кормах №2 и №4 Разница с кормом №1 статистически незначима, но корм №3 показывает немного лучшие результаты Корм, от которого следует отказаться: Корм №2 показывает наихудшие результаты Имеет статистически значимую отрицательную разницу с кормами №1 и №3 Приводит к наименьшей средней массе тигров Итоговые рекомендации:\n",
    "\n",
    "Внедрить корм №3 как основной рацион Полностью отказаться от корма №2 Корм №1 можно использовать как альтернативу корму №3 Корм №4 показывает средние результаты и может использоваться как резервный вариант"
   ]
  },
  {
   "cell_type": "markdown",
   "id": "2e2b26c8-37a6-41dc-82c5-20e35e44aee0",
   "metadata": {},
   "source": [
    "Задание 12 (про белок)"
   ]
  },
  {
   "cell_type": "code",
   "execution_count": null,
   "id": "28f265c4-0a92-40b6-b4de-3cb51c443a89",
   "metadata": {},
   "outputs": [],
   "source": [
    "'''Ваш ответ на задание №12\n",
    "- верно указана применяемая статистика и обоснование ее применения\n",
    "- расчет выполнен через последовательные суммы квадратов\n",
    "- получены расчетные значения статистики\n",
    "- получены значения p_value\n",
    "- сделан статистический вывод на основе сравнения p-value и уровня значимости\n",
    "- сделан содержательный вывод по поставленной проблеме'''"
   ]
  },
  {
   "cell_type": "markdown",
   "id": "2ad629ca-138e-4203-8fd0-c8b9f8b3b6c9",
   "metadata": {},
   "source": [
    "для двухфакторного дисперсионного анализа (Two-way ANOVA):\n",
    "\n",
    "Подготовка данных: Фактор A: наличие выводка (2 уровня) Фактор B: возраст (3 уровня) Зависимая переменная: масса тела Проверка предпосылок: Нормальность распределения Однородность дисперсий Независимость наблюдений Проведение двухфакторного ANOVA: Расчет последовательных сумм квадратов (Type I SS) Оценка главных эффектов факторов Оценка взаимодействия факторов Анализ результатов: Оценка значимости каждого фактора Оценка значимости взаимодействия Расчет F-статистик и p-values Визуализация: Построение графиков взаимодействий Построение диаграмм размаха"
   ]
  },
  {
   "cell_type": "code",
   "execution_count": 15,
   "id": "f86f1f46-31d1-4529-a3b7-a196dc2a3048",
   "metadata": {},
   "outputs": [
    {
     "name": "stdout",
     "output_type": "stream",
     "text": [
      "Результаты двухфакторного ANOVA:\n",
      "                         df     sum_sq       mean_sq          F        PR(>F)\n",
      "C(возраст)              2.0  2427075.8  1.213538e+06  42.377707  1.333903e-08\n",
      "C(выводок)              1.0   202705.2  2.027052e+05   7.078626  1.368668e-02\n",
      "C(возраст):C(выводок)   2.0    50688.2  2.534410e+04   0.885036  4.257428e-01\n",
      "Residual               24.0   687269.6  2.863623e+04        NaN           NaN\n"
     ]
    },
    {
     "data": {
      "image/png": "[encoded data removed]",
      "text/plain": [
       "<Figure size 1000x600 with 1 Axes>"
      ]
     },
     "metadata": {},
     "output_type": "display_data"
    }
   ],
   "source": [
    "import statsmodels.api as sm\n",
    "from statsmodels.stats.anova import anova_lm\n",
    "\n",
    "# Подготовка данных\n",
    "no_offspring = [\n",
    "    [440, 438, 429, 502, 602],  # 1 год\n",
    "    [892, 868, 855, 866, 932],  # 2 года\n",
    "    [1575, 849, 759, 1602, 1327]  # 3+ лет\n",
    "]\n",
    "\n",
    "with_offspring = [\n",
    "    [308, 328, 326, 326, 325],  # 1 год\n",
    "    [737, 798, 876, 810, 861],  # 2 года\n",
    "    [1001, 901, 958, 1032, 883]  # 3+ лет\n",
    "]\n",
    "\n",
    "# Создание DataFrame\n",
    "data = []\n",
    "for i, age in enumerate(['1 год', '2 года', '3+ лет']):\n",
    "    for value in no_offspring[i]:\n",
    "        data.append({'масса': value, 'возраст': age, 'выводок': 'без выводка'})\n",
    "    for value in with_offspring[i]:\n",
    "        data.append({'масса': value, 'возраст': age, 'выводок': 'с выводком'})\n",
    "\n",
    "df = pd.DataFrame(data)\n",
    "\n",
    "# Проведение двухфакторного ANOVA\n",
    "model = sm.OLS.from_formula('масса ~ C(возраст) + C(выводок) + C(возраст):C(выводок)', data=df).fit()\n",
    "anova_table = anova_lm(model, typ=1)  # Type I SS\n",
    "\n",
    "print(\"Результаты двухфакторного ANOVA:\")\n",
    "print(anova_table)\n",
    "\n",
    "# Визуализация\n",
    "plt.figure(figsize=(10, 6))\n",
    "for offspring in ['без выводка', 'с выводком']:\n",
    "    data = df[df['выводок'] == offspring].groupby('возраст')['масса'].mean()\n",
    "    plt.plot(data.index, data.values, marker='o', label=offspring)\n",
    "\n",
    "plt.xlabel('Возраст')\n",
    "plt.ylabel('Средняя масса')\n",
    "plt.title('Взаимодействие возраста и наличия выводка')\n",
    "plt.legend()\n",
    "plt.grid(True)\n",
    "plt.show()"
   ]
  }
 ],
 "metadata": {
  "kernelspec": {
   "display_name": "Python 3 (ipykernel)",
   "language": "python",
   "name": "python3"
  },
  "language_info": {
   "codemirror_mode": {
    "name": "ipython",
    "version": 3
   },
   "file_extension": ".py",
   "mimetype": "text/x-python",
   "name": "python",
   "nbconvert_exporter": "python",
   "pygments_lexer": "ipython3",
   "version": "3.12.4"
  }
 },
 "nbformat": 4,
 "nbformat_minor": 5
}
